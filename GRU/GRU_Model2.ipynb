{
 "cells": [
  {
   "cell_type": "code",
   "execution_count": 6,
   "id": "efe77a31",
   "metadata": {},
   "outputs": [],
   "source": [
    "# LSTM for international airline passengers problem with window regression framing\n",
    "import numpy\n",
    "import matplotlib.pyplot as plt\n",
    "from pandas import read_csv\n",
    "import math\n",
    "from scipy import stats\n",
    "import numpy as np\n",
    "from keras.models import Sequential\n",
    "from keras.layers import Dense\n",
    "from keras.layers import GRU\n",
    "from sklearn.preprocessing import MinMaxScaler\n",
    "from sklearn.metrics import mean_squared_error\n"
   ]
  },
  {
   "cell_type": "code",
   "execution_count": 7,
   "id": "22a2592d",
   "metadata": {},
   "outputs": [],
   "source": [
    "# convert an array of values into a dataset matrix\n",
    "def create_dataset(dataset, look_back=1):\n",
    "\tdataX, dataY = [], []\n",
    "\tfor i in range(len(dataset)-look_back-1):\n",
    "\t\ta = dataset[i:(i+look_back), 0]\n",
    "\t\tdataX.append(a)\n",
    "\t\tdataY.append(dataset[i + look_back, 0])\n",
    "\treturn numpy.array(dataX), numpy.array(dataY)\n"
   ]
  },
  {
   "cell_type": "code",
   "execution_count": 8,
   "id": "23f6c93d",
   "metadata": {},
   "outputs": [],
   "source": [
    "# fix random seed for reproducibility\n",
    "numpy.random.seed(7)\n",
    "# load the dataset\n",
    "dataframe = read_csv('cleandata2.csv', usecols=[1], engine='python')\n",
    "dataset = dataframe.values\n",
    "dataset = dataset.astype('float32')\n"
   ]
  },
  {
   "cell_type": "code",
   "execution_count": 9,
   "id": "7d20693e",
   "metadata": {},
   "outputs": [
    {
     "data": {
      "text/html": [
       "<div>\n",
       "<style scoped>\n",
       "    .dataframe tbody tr th:only-of-type {\n",
       "        vertical-align: middle;\n",
       "    }\n",
       "\n",
       "    .dataframe tbody tr th {\n",
       "        vertical-align: top;\n",
       "    }\n",
       "\n",
       "    .dataframe thead th {\n",
       "        text-align: right;\n",
       "    }\n",
       "</style>\n",
       "<table border=\"1\" class=\"dataframe\">\n",
       "  <thead>\n",
       "    <tr style=\"text-align: right;\">\n",
       "      <th></th>\n",
       "      <th>Sunspots</th>\n",
       "    </tr>\n",
       "  </thead>\n",
       "  <tbody>\n",
       "    <tr>\n",
       "      <th>0</th>\n",
       "      <td>58.0</td>\n",
       "    </tr>\n",
       "    <tr>\n",
       "      <th>1</th>\n",
       "      <td>62.6</td>\n",
       "    </tr>\n",
       "    <tr>\n",
       "      <th>2</th>\n",
       "      <td>70.0</td>\n",
       "    </tr>\n",
       "    <tr>\n",
       "      <th>3</th>\n",
       "      <td>55.7</td>\n",
       "    </tr>\n",
       "    <tr>\n",
       "      <th>4</th>\n",
       "      <td>85.0</td>\n",
       "    </tr>\n",
       "  </tbody>\n",
       "</table>\n",
       "</div>"
      ],
      "text/plain": [
       "   Sunspots\n",
       "0      58.0\n",
       "1      62.6\n",
       "2      70.0\n",
       "3      55.7\n",
       "4      85.0"
      ]
     },
     "execution_count": 9,
     "metadata": {},
     "output_type": "execute_result"
    }
   ],
   "source": [
    "dataframe.head()"
   ]
  },
  {
   "cell_type": "code",
   "execution_count": 10,
   "id": "dff8c0e7",
   "metadata": {},
   "outputs": [],
   "source": [
    "# normalize the dataset\n",
    "scaler = MinMaxScaler(feature_range=(0, 1))\n",
    "dataset = scaler.fit_transform(dataset)\n",
    "# split into train and test sets\n",
    "train_size = int(len(dataset) * 0.67)\n",
    "test_size = len(dataset) - train_size\n",
    "train, test = dataset[0:train_size,:], dataset[train_size:len(dataset),:]\n"
   ]
  },
  {
   "cell_type": "code",
   "execution_count": 11,
   "id": "f1c20ad4",
   "metadata": {},
   "outputs": [],
   "source": [
    "# reshape into X=t and Y=t+1\n",
    "look_back = 3\n",
    "trainX, trainY = create_dataset(train, look_back)\n",
    "testX, testY = create_dataset(test, look_back)\n"
   ]
  },
  {
   "cell_type": "code",
   "execution_count": 12,
   "id": "abe44382",
   "metadata": {},
   "outputs": [],
   "source": [
    "# reshape input to be [samples, time steps, features]\n",
    "trainX = numpy.reshape(trainX, (trainX.shape[0], 1, trainX.shape[1]))\n",
    "testX = numpy.reshape(testX, (testX.shape[0], 1, testX.shape[1]))\n"
   ]
  },
  {
   "cell_type": "code",
   "execution_count": 13,
   "id": "707144fc",
   "metadata": {},
   "outputs": [
    {
     "name": "stdout",
     "output_type": "stream",
     "text": [
      "Epoch 1/100\n",
      "1881/1881 - 5s - loss: 0.0050\n",
      "Epoch 2/100\n",
      "1881/1881 - 2s - loss: 0.0040\n",
      "Epoch 3/100\n",
      "1881/1881 - 3s - loss: 0.0039\n",
      "Epoch 4/100\n",
      "1881/1881 - 2s - loss: 0.0037\n",
      "Epoch 5/100\n",
      "1881/1881 - 2s - loss: 0.0037\n",
      "Epoch 6/100\n",
      "1881/1881 - 2s - loss: 0.0037\n",
      "Epoch 7/100\n",
      "1881/1881 - 2s - loss: 0.0037\n",
      "Epoch 8/100\n",
      "1881/1881 - 2s - loss: 0.0036\n",
      "Epoch 9/100\n",
      "1881/1881 - 2s - loss: 0.0037\n",
      "Epoch 10/100\n",
      "1881/1881 - 2s - loss: 0.0037\n",
      "Epoch 11/100\n",
      "1881/1881 - 2s - loss: 0.0037\n",
      "Epoch 12/100\n",
      "1881/1881 - 1s - loss: 0.0036\n",
      "Epoch 13/100\n",
      "1881/1881 - 2s - loss: 0.0036\n",
      "Epoch 14/100\n",
      "1881/1881 - 2s - loss: 0.0037\n",
      "Epoch 15/100\n",
      "1881/1881 - 2s - loss: 0.0037\n",
      "Epoch 16/100\n",
      "1881/1881 - 1s - loss: 0.0036\n",
      "Epoch 17/100\n",
      "1881/1881 - 1s - loss: 0.0037\n",
      "Epoch 18/100\n",
      "1881/1881 - 1s - loss: 0.0036\n",
      "Epoch 19/100\n",
      "1881/1881 - 1s - loss: 0.0036\n",
      "Epoch 20/100\n",
      "1881/1881 - 1s - loss: 0.0037\n",
      "Epoch 21/100\n",
      "1881/1881 - 1s - loss: 0.0037\n",
      "Epoch 22/100\n",
      "1881/1881 - 2s - loss: 0.0036\n",
      "Epoch 23/100\n",
      "1881/1881 - 2s - loss: 0.0037\n",
      "Epoch 24/100\n",
      "1881/1881 - 2s - loss: 0.0037\n",
      "Epoch 25/100\n",
      "1881/1881 - 2s - loss: 0.0037\n",
      "Epoch 26/100\n",
      "1881/1881 - 1s - loss: 0.0036\n",
      "Epoch 27/100\n",
      "1881/1881 - 1s - loss: 0.0036\n",
      "Epoch 28/100\n",
      "1881/1881 - 1s - loss: 0.0037\n",
      "Epoch 29/100\n",
      "1881/1881 - 1s - loss: 0.0037\n",
      "Epoch 30/100\n",
      "1881/1881 - 1s - loss: 0.0036\n",
      "Epoch 31/100\n",
      "1881/1881 - 1s - loss: 0.0036\n",
      "Epoch 32/100\n",
      "1881/1881 - 2s - loss: 0.0036\n",
      "Epoch 33/100\n",
      "1881/1881 - 1s - loss: 0.0036\n",
      "Epoch 34/100\n",
      "1881/1881 - 1s - loss: 0.0037\n",
      "Epoch 35/100\n",
      "1881/1881 - 1s - loss: 0.0036\n",
      "Epoch 36/100\n",
      "1881/1881 - 2s - loss: 0.0036\n",
      "Epoch 37/100\n",
      "1881/1881 - 1s - loss: 0.0036\n",
      "Epoch 38/100\n",
      "1881/1881 - 1s - loss: 0.0036\n",
      "Epoch 39/100\n",
      "1881/1881 - 1s - loss: 0.0036\n",
      "Epoch 40/100\n",
      "1881/1881 - 1s - loss: 0.0036\n",
      "Epoch 41/100\n",
      "1881/1881 - 1s - loss: 0.0036\n",
      "Epoch 42/100\n",
      "1881/1881 - 1s - loss: 0.0036\n",
      "Epoch 43/100\n",
      "1881/1881 - 1s - loss: 0.0036\n",
      "Epoch 44/100\n",
      "1881/1881 - 1s - loss: 0.0036\n",
      "Epoch 45/100\n",
      "1881/1881 - 2s - loss: 0.0036\n",
      "Epoch 46/100\n",
      "1881/1881 - 2s - loss: 0.0036\n",
      "Epoch 47/100\n",
      "1881/1881 - 2s - loss: 0.0036\n",
      "Epoch 48/100\n",
      "1881/1881 - 2s - loss: 0.0036\n",
      "Epoch 49/100\n",
      "1881/1881 - 2s - loss: 0.0036\n",
      "Epoch 50/100\n",
      "1881/1881 - 2s - loss: 0.0036\n",
      "Epoch 51/100\n",
      "1881/1881 - 1s - loss: 0.0036\n",
      "Epoch 52/100\n",
      "1881/1881 - 1s - loss: 0.0036\n",
      "Epoch 53/100\n",
      "1881/1881 - 1s - loss: 0.0036\n",
      "Epoch 54/100\n",
      "1881/1881 - 1s - loss: 0.0036\n",
      "Epoch 55/100\n",
      "1881/1881 - 1s - loss: 0.0036\n",
      "Epoch 56/100\n",
      "1881/1881 - 1s - loss: 0.0036\n",
      "Epoch 57/100\n",
      "1881/1881 - 1s - loss: 0.0036\n",
      "Epoch 58/100\n",
      "1881/1881 - 1s - loss: 0.0036\n",
      "Epoch 59/100\n",
      "1881/1881 - 1s - loss: 0.0036\n",
      "Epoch 60/100\n",
      "1881/1881 - 1s - loss: 0.0036\n",
      "Epoch 61/100\n",
      "1881/1881 - 1s - loss: 0.0036\n",
      "Epoch 62/100\n",
      "1881/1881 - 1s - loss: 0.0036\n",
      "Epoch 63/100\n",
      "1881/1881 - 1s - loss: 0.0036\n",
      "Epoch 64/100\n",
      "1881/1881 - 1s - loss: 0.0036\n",
      "Epoch 65/100\n",
      "1881/1881 - 1s - loss: 0.0036\n",
      "Epoch 66/100\n",
      "1881/1881 - 2s - loss: 0.0036\n",
      "Epoch 67/100\n",
      "1881/1881 - 2s - loss: 0.0036\n",
      "Epoch 68/100\n",
      "1881/1881 - 2s - loss: 0.0036\n",
      "Epoch 69/100\n",
      "1881/1881 - 2s - loss: 0.0036\n",
      "Epoch 70/100\n",
      "1881/1881 - 1s - loss: 0.0036\n",
      "Epoch 71/100\n",
      "1881/1881 - 2s - loss: 0.0036\n",
      "Epoch 72/100\n",
      "1881/1881 - 2s - loss: 0.0036\n",
      "Epoch 73/100\n",
      "1881/1881 - 2s - loss: 0.0036\n",
      "Epoch 74/100\n",
      "1881/1881 - 2s - loss: 0.0036\n",
      "Epoch 75/100\n",
      "1881/1881 - 1s - loss: 0.0036\n",
      "Epoch 76/100\n",
      "1881/1881 - 1s - loss: 0.0036\n",
      "Epoch 77/100\n",
      "1881/1881 - 1s - loss: 0.0036\n",
      "Epoch 78/100\n",
      "1881/1881 - 1s - loss: 0.0036\n",
      "Epoch 79/100\n",
      "1881/1881 - 1s - loss: 0.0036\n",
      "Epoch 80/100\n",
      "1881/1881 - 2s - loss: 0.0036\n",
      "Epoch 81/100\n",
      "1881/1881 - 1s - loss: 0.0036\n",
      "Epoch 82/100\n",
      "1881/1881 - 1s - loss: 0.0036\n",
      "Epoch 83/100\n",
      "1881/1881 - 1s - loss: 0.0036\n",
      "Epoch 84/100\n",
      "1881/1881 - 1s - loss: 0.0036\n",
      "Epoch 85/100\n",
      "1881/1881 - 1s - loss: 0.0036\n",
      "Epoch 86/100\n",
      "1881/1881 - 1s - loss: 0.0036\n",
      "Epoch 87/100\n",
      "1881/1881 - 1s - loss: 0.0036\n",
      "Epoch 88/100\n",
      "1881/1881 - 1s - loss: 0.0036\n",
      "Epoch 89/100\n",
      "1881/1881 - 2s - loss: 0.0036\n",
      "Epoch 90/100\n",
      "1881/1881 - 2s - loss: 0.0036\n",
      "Epoch 91/100\n",
      "1881/1881 - 2s - loss: 0.0036\n",
      "Epoch 92/100\n",
      "1881/1881 - 2s - loss: 0.0036\n",
      "Epoch 93/100\n",
      "1881/1881 - 1s - loss: 0.0036\n",
      "Epoch 94/100\n",
      "1881/1881 - 1s - loss: 0.0036\n",
      "Epoch 95/100\n",
      "1881/1881 - 1s - loss: 0.0036\n",
      "Epoch 96/100\n",
      "1881/1881 - 1s - loss: 0.0036\n",
      "Epoch 97/100\n",
      "1881/1881 - 1s - loss: 0.0036\n",
      "Epoch 98/100\n",
      "1881/1881 - 1s - loss: 0.0036\n",
      "Epoch 99/100\n",
      "1881/1881 - 1s - loss: 0.0036\n",
      "Epoch 100/100\n",
      "1881/1881 - 1s - loss: 0.0036\n"
     ]
    },
    {
     "data": {
      "text/plain": [
       "<keras.callbacks.History at 0x25a956f5f98>"
      ]
     },
     "execution_count": 13,
     "metadata": {},
     "output_type": "execute_result"
    }
   ],
   "source": [
    "# create and fit the GRU network\n",
    "model = Sequential()\n",
    "model.add(GRU(4, input_shape=(1, look_back)))\n",
    "model.add(Dense(1))\n",
    "model.compile(loss='mean_squared_error', optimizer='adam')\n",
    "model.fit(trainX, trainY, epochs=100, batch_size=1, verbose=2)\n"
   ]
  },
  {
   "cell_type": "code",
   "execution_count": 14,
   "id": "e589ae0c",
   "metadata": {},
   "outputs": [],
   "source": [
    "# make predictions\n",
    "trainPredict = model.predict(trainX)\n",
    "testPredict = model.predict(testX)\n"
   ]
  },
  {
   "cell_type": "code",
   "execution_count": 15,
   "id": "9ddbda2f",
   "metadata": {},
   "outputs": [],
   "source": [
    "# invert predictions\n",
    "trainPredict = scaler.inverse_transform(trainPredict)\n",
    "trainY = scaler.inverse_transform([trainY])\n",
    "testPredict = scaler.inverse_transform(testPredict)\n",
    "testY = scaler.inverse_transform([testY])\n"
   ]
  },
  {
   "cell_type": "code",
   "execution_count": 16,
   "id": "c2f51a59",
   "metadata": {},
   "outputs": [
    {
     "name": "stdout",
     "output_type": "stream",
     "text": [
      "Train Score: 15.15 RMSE\n",
      "Test Score: 17.65 RMSE\n"
     ]
    }
   ],
   "source": [
    "# calculate root mean squared error\n",
    "trainScore = math.sqrt(mean_squared_error(trainY[0], trainPredict[:,0]))\n",
    "print('Train Score: %.2f RMSE' % (trainScore))\n",
    "testScore = math.sqrt(mean_squared_error(testY[0], testPredict[:,0]))\n",
    "print('Test Score: %.2f RMSE' % (testScore))\n"
   ]
  },
  {
   "cell_type": "code",
   "execution_count": 17,
   "id": "f5703029",
   "metadata": {},
   "outputs": [],
   "source": [
    "# shift train predictions for plotting\n",
    "trainPredictPlot = numpy.empty_like(dataset)\n",
    "trainPredictPlot[:, :] = numpy.nan\n",
    "trainPredictPlot[look_back:len(trainPredict)+look_back, :] = trainPredict\n"
   ]
  },
  {
   "cell_type": "code",
   "execution_count": 18,
   "id": "013ccdab",
   "metadata": {},
   "outputs": [],
   "source": [
    "# shift test predictions for plotting\n",
    "testPredictPlot = numpy.empty_like(dataset)\n",
    "testPredictPlot[:, :] = numpy.nan\n",
    "testPredictPlot[len(trainPredict)+(look_back*2)+1:len(dataset)-1, :] = testPredict\n"
   ]
  },
  {
   "cell_type": "code",
   "execution_count": 19,
   "id": "dfbafe35",
   "metadata": {},
   "outputs": [
    {
     "data": {
      "image/png": "[encoded data removed]",
      "text/plain": [
       "<Figure size 1080x360 with 1 Axes>"
      ]
     },
     "metadata": {
      "needs_background": "light"
     },
     "output_type": "display_data"
    }
   ],
   "source": [
    "# plot baseline and predictions\n",
    "#plt.legend(trainPredictPlot,label='Actual')\n",
    "#plt.legend(testPredictPlot,label='Prediction')\n",
    "\n",
    "plt.plot(scaler.inverse_transform(dataset))\n",
    "plt.plot(trainPredictPlot,label='Actual')\n",
    "plt.plot(testPredictPlot,label='Predicted')\n",
    "plt.legend()\n",
    "plt.gcf().set_size_inches(15,5)\n",
    "\n",
    "plt.show()"
   ]
  },
  {
   "cell_type": "code",
   "execution_count": null,
   "id": "1bb4e8f1",
   "metadata": {},
   "outputs": [],
   "source": []
  }
 ],
 "metadata": {
  "kernelspec": {
   "display_name": "Python 3",
   "language": "python",
   "name": "python3"
  },
  "language_info": {
   "codemirror_mode": {
    "name": "ipython",
    "version": 3
   },
   "file_extension": ".py",
   "mimetype": "text/x-python",
   "name": "python",
   "nbconvert_exporter": "python",
   "pygments_lexer": "ipython3",
   "version": "3.7.0"
  }
 },
 "nbformat": 4,
 "nbformat_minor": 5
}
